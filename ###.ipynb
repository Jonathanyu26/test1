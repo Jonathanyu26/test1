{
 "cells": [
  {
   "cell_type": "code",
   "execution_count": 26,
   "metadata": {},
   "outputs": [
    {
     "name": "stdout",
     "output_type": "stream",
     "text": [
      "20\n",
      "                   #\n",
      "                  ###\n",
      "                 #####\n",
      "                #######\n",
      "               #########\n",
      "              ###########\n",
      "             #############\n",
      "            ###############\n",
      "           #################\n",
      "          ###################\n",
      "         #####################\n",
      "        #######################\n",
      "       #########################\n",
      "      ###########################\n",
      "     #############################\n",
      "    ###############################\n",
      "   #################################\n",
      "  ###################################\n",
      " #####################################\n"
     ]
    }
   ],
   "source": [
    "n = int(input())\n",
    "for i in range(1,n):\n",
    "    print (' '*((n-1)-i),'#'*i+'#'*(i-1))"
   ]
  },
  {
   "cell_type": "code",
   "execution_count": 35,
   "metadata": {},
   "outputs": [
    {
     "name": "stdout",
     "output_type": "stream",
     "text": [
      "sub yb loohcs ot og I\n"
     ]
    }
   ],
   "source": [
    "str = 'I go to school by bus'\n",
    "print(str[::-1])\n"
   ]
  },
  {
   "cell_type": "code",
   "execution_count": 28,
   "metadata": {},
   "outputs": [
    {
     "name": "stdout",
     "output_type": "stream",
     "text": [
      "h\n"
     ]
    }
   ],
   "source": []
  },
  {
   "cell_type": "code",
   "execution_count": null,
   "metadata": {},
   "outputs": [],
   "source": []
  }
 ],
 "metadata": {
  "kernelspec": {
   "display_name": "Python 3",
   "language": "python",
   "name": "python3"
  },
  "language_info": {
   "codemirror_mode": {
    "name": "ipython",
    "version": 3
   },
   "file_extension": ".py",
   "mimetype": "text/x-python",
   "name": "python",
   "nbconvert_exporter": "python",
   "pygments_lexer": "ipython3",
   "version": "3.7.6"
  }
 },
 "nbformat": 4,
 "nbformat_minor": 4
}
